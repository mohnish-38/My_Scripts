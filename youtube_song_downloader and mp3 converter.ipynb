{
 "cells": [
  {
   "cell_type": "code",
   "execution_count": 28,
   "metadata": {},
   "outputs": [],
   "source": [
    "from urllib import request\n",
    "from bs4 import BeautifulSoup\n",
    "from mhyt import yt_download\n",
    "import moviepy.editor as mp\n",
    "import os\n",
    "import re"
   ]
  },
  {
   "cell_type": "code",
   "execution_count": 29,
   "metadata": {
    "scrolled": true
   },
   "outputs": [
    {
     "name": "stdout",
     "output_type": "stream",
     "text": [
      "links here --> https://www.youtube.com/watch?v=cajSxnjQC00\n",
      "enter 1= song,2=video,3=both2\n",
      "Select folder -->H:\\\n",
      "download https://www.youtube.com/watch?v=cajSxnjQC00 in format mp4 in file H:\\\\Coke Studio Season 8 - Tajdar-e-Haram - .mp4 as music\n",
      "[youtube] cajSxnjQC00: Downloading webpage\n",
      "[download] Destination: H:\\Coke Studio Season 8 - Tajdar-e-Haram - .mp4\n",
      "[download] 100% of 52.56MiB in 04:44                    \n"
     ]
    }
   ],
   "source": [
    "#for link, we create list to download many song \n",
    "lst=input(\"links here --> \").split()\n",
    "\n",
    "#choose your option for downloading as song,video or as both\n",
    "\n",
    "a=int(input(\"enter 1 = song,2 = video,3 = both--> \"))\n",
    "\n",
    "if a==1:#for only song\n",
    "    #choose folder\n",
    "    folder_path=input(\"Select folder -->\")\n",
    "    #video code\n",
    "    for i in range(0,len(lst)):\n",
    "        url = lst[i] \n",
    "        html = request.urlopen(url).read().decode('utf8') \n",
    "        html[:60]\n",
    "        soup = BeautifulSoup(html, 'html.parser') \n",
    "        get_title = soup.find('title')\n",
    "        title=get_title.string[0:40]\n",
    "        destination=(\"{}{}{}.mp4\".format(folder_path,\"\\\\\",title))\n",
    "        yt_download(lst[i],destination)\n",
    "    #mp4 to mp3 conversion code\n",
    "    for file in [n for n in os.listdir(folder_path) if re.search('mp4',n)]:\n",
    "        fullpath=os.path.join(folder_path,file)\n",
    "        outpath=os.path.join(folder_path,os.path.splitext(file)[0]+'.mp3')\n",
    "        clip = mp.AudioFileClip(fullpath)\n",
    "        clip.write_audiofile(outpath)\n",
    "        #for only song we have to delete video\n",
    "        os.remove(fullpath)\n",
    "elif a==2:# for only video\n",
    "    folder_path=input(\"Select folder -->\")\n",
    "    for i in range(0,len(lst)):\n",
    "        url = lst[i] \n",
    "        html = request.urlopen(url).read().decode('utf8') \n",
    "        html[:60]\n",
    "        soup = BeautifulSoup(html, 'html.parser') \n",
    "        get_title = soup.find('title')\n",
    "        title=get_title.string[0:40]\n",
    "        destination=(\"{}{}{}.mp4\".format(folder_path,\"\\\\\",title))\n",
    "        yt_download(lst[i],destination)\n",
    "elif a==3:# for both video and song\n",
    "    folder_path=input(\"Select folder -->\")\n",
    "    for i in range(0,len(lst)):\n",
    "        url = lst[i] \n",
    "        html = request.urlopen(url).read().decode('utf8') \n",
    "        html[:60]\n",
    "        soup = BeautifulSoup(html, 'html.parser') \n",
    "        get_title = soup.find('title')\n",
    "        title=get_title.string[0:40]\n",
    "        destination=(\"{}{}{}.mp4\".format(folder_path,\"\\\\\",title))\n",
    "        yt_download(lst[i],destination)\n",
    "    for file in [n for n in os.listdir(folder_path) if re.search('mp4',n)]:\n",
    "        fullpath=os.path.join(folder_path,file)\n",
    "        outpath=os.path.join(folder_path,os.path.splitext(file)[0]+'.mp3')\n",
    "        clip = mp.AudioFileClip(fullpath) # disable if do not want any clipping\n",
    "        clip.write_audiofile(outpath)\n",
    "else:\n",
    "    print(\"choose valid numbers only\")\n",
    "    \n",
    "    \n",
    "        \n",
    "    "
   ]
  },
  {
   "cell_type": "code",
   "execution_count": null,
   "metadata": {},
   "outputs": [],
   "source": []
  }
 ],
 "metadata": {
  "kernelspec": {
   "display_name": "Python 3",
   "language": "python",
   "name": "python3"
  },
  "language_info": {
   "codemirror_mode": {
    "name": "ipython",
    "version": 3
   },
   "file_extension": ".py",
   "mimetype": "text/x-python",
   "name": "python",
   "nbconvert_exporter": "python",
   "pygments_lexer": "ipython3",
   "version": "3.8.5"
  }
 },
 "nbformat": 4,
 "nbformat_minor": 4
}
